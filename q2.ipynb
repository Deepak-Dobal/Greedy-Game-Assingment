{
  "nbformat": 4,
  "nbformat_minor": 0,
  "metadata": {
    "colab": {
      "provenance": []
    },
    "kernelspec": {
      "name": "python3",
      "display_name": "Python 3"
    },
    "language_info": {
      "name": "python"
    }
  },
  "cells": [
    {
      "cell_type": "code",
      "execution_count": null,
      "metadata": {
        "id": "80en-gFbLQ2B"
      },
      "outputs": [],
      "source": [
        "import pandas as pd\n",
        "import numpy as np\n",
        "import matplotlib.pyplot as plt"
      ]
    },
    {
      "cell_type": "code",
      "source": [
        "User_offer_completion_data=pd.read_csv(\"/content/Q2_User offer completion data (1).csv\",index_col=0)\n",
        "# User_offer_completion_data"
      ],
      "metadata": {
        "id": "gHSoaDkVLuOL"
      },
      "execution_count": null,
      "outputs": []
    },
    {
      "cell_type": "code",
      "source": [
        "User_offer_data=pd.read_csv(\"/content/Q2_User offer data.csv\",index_col=0)\n",
        "# User_offer_data"
      ],
      "metadata": {
        "id": "IbAAL8diMFxx"
      },
      "execution_count": null,
      "outputs": []
    },
    {
      "cell_type": "code",
      "source": [
        "rewards_details=pd.read_csv(\"/content/Q2_rewards details.csv\",index_col=0)\n",
        "# rewards_details"
      ],
      "metadata": {
        "id": "SHehRJcsMOAA"
      },
      "execution_count": null,
      "outputs": []
    },
    {
      "cell_type": "code",
      "source": [
        "users_signup=pd.read_csv(\"/content/Q2_users signup.csv\",index_col=0)\n",
        "users_signup"
      ],
      "metadata": {
        "colab": {
          "base_uri": "https://localhost:8080/",
          "height": 455
        },
        "id": "vqHxqlfoMWEh",
        "outputId": "cc6a0dc6-4c34-443d-9140-1dc81c093eb9"
      },
      "execution_count": null,
      "outputs": [
        {
          "output_type": "execute_result",
          "data": {
            "text/plain": [
              "                                         app_id signed_up_on last_login_date\n",
              "user_id                                                                     \n",
              "c925ccad-98e7-4500-833e-a49aa066aeec      sikka   2022-11-26      2022-11-26\n",
              "7cdb9d2c-9644-42d0-8d44-50fa57747523      sikka   2022-11-26      2022-11-26\n",
              "e2dfd115-a8b0-4e3e-96e5-9b11e5f316f1      sikka   2022-11-26      2022-11-28\n",
              "f55000a3-dd68-44d8-b461-41c85d963ce2      sikka   2022-11-26      2022-11-27\n",
              "a6d5ed73-5c1c-4666-a592-f93ab4489cf5      sikka   2022-11-26      2022-11-26\n",
              "...                                         ...          ...             ...\n",
              "fe1a886f-08c0-4cd2-9e0b-27494ee4fef5  sikka_pro   2022-11-26      2022-11-26\n",
              "0e205d6d-d50b-4dba-a0cd-0355b4f2cc49  sikka_pro   2022-11-26      2022-11-29\n",
              "bba5bdf4-9728-42c3-8897-a7dc73ec3594  sikka_pro   2022-11-26      2022-11-26\n",
              "a83cc0e7-637c-464c-b6ad-407c6c94a633  sikka_pro   2022-11-26      2022-11-27\n",
              "18f9d5c1-c378-4c3a-b829-f5d81ca03653  sikka_pro   2022-11-26      2022-11-27\n",
              "\n",
              "[100 rows x 3 columns]"
            ],
            "text/html": [
              "\n",
              "  <div id=\"df-a65be8d8-33ae-4c19-9037-212e08a37fea\">\n",
              "    <div class=\"colab-df-container\">\n",
              "      <div>\n",
              "<style scoped>\n",
              "    .dataframe tbody tr th:only-of-type {\n",
              "        vertical-align: middle;\n",
              "    }\n",
              "\n",
              "    .dataframe tbody tr th {\n",
              "        vertical-align: top;\n",
              "    }\n",
              "\n",
              "    .dataframe thead th {\n",
              "        text-align: right;\n",
              "    }\n",
              "</style>\n",
              "<table border=\"1\" class=\"dataframe\">\n",
              "  <thead>\n",
              "    <tr style=\"text-align: right;\">\n",
              "      <th></th>\n",
              "      <th>app_id</th>\n",
              "      <th>signed_up_on</th>\n",
              "      <th>last_login_date</th>\n",
              "    </tr>\n",
              "    <tr>\n",
              "      <th>user_id</th>\n",
              "      <th></th>\n",
              "      <th></th>\n",
              "      <th></th>\n",
              "    </tr>\n",
              "  </thead>\n",
              "  <tbody>\n",
              "    <tr>\n",
              "      <th>c925ccad-98e7-4500-833e-a49aa066aeec</th>\n",
              "      <td>sikka</td>\n",
              "      <td>2022-11-26</td>\n",
              "      <td>2022-11-26</td>\n",
              "    </tr>\n",
              "    <tr>\n",
              "      <th>7cdb9d2c-9644-42d0-8d44-50fa57747523</th>\n",
              "      <td>sikka</td>\n",
              "      <td>2022-11-26</td>\n",
              "      <td>2022-11-26</td>\n",
              "    </tr>\n",
              "    <tr>\n",
              "      <th>e2dfd115-a8b0-4e3e-96e5-9b11e5f316f1</th>\n",
              "      <td>sikka</td>\n",
              "      <td>2022-11-26</td>\n",
              "      <td>2022-11-28</td>\n",
              "    </tr>\n",
              "    <tr>\n",
              "      <th>f55000a3-dd68-44d8-b461-41c85d963ce2</th>\n",
              "      <td>sikka</td>\n",
              "      <td>2022-11-26</td>\n",
              "      <td>2022-11-27</td>\n",
              "    </tr>\n",
              "    <tr>\n",
              "      <th>a6d5ed73-5c1c-4666-a592-f93ab4489cf5</th>\n",
              "      <td>sikka</td>\n",
              "      <td>2022-11-26</td>\n",
              "      <td>2022-11-26</td>\n",
              "    </tr>\n",
              "    <tr>\n",
              "      <th>...</th>\n",
              "      <td>...</td>\n",
              "      <td>...</td>\n",
              "      <td>...</td>\n",
              "    </tr>\n",
              "    <tr>\n",
              "      <th>fe1a886f-08c0-4cd2-9e0b-27494ee4fef5</th>\n",
              "      <td>sikka_pro</td>\n",
              "      <td>2022-11-26</td>\n",
              "      <td>2022-11-26</td>\n",
              "    </tr>\n",
              "    <tr>\n",
              "      <th>0e205d6d-d50b-4dba-a0cd-0355b4f2cc49</th>\n",
              "      <td>sikka_pro</td>\n",
              "      <td>2022-11-26</td>\n",
              "      <td>2022-11-29</td>\n",
              "    </tr>\n",
              "    <tr>\n",
              "      <th>bba5bdf4-9728-42c3-8897-a7dc73ec3594</th>\n",
              "      <td>sikka_pro</td>\n",
              "      <td>2022-11-26</td>\n",
              "      <td>2022-11-26</td>\n",
              "    </tr>\n",
              "    <tr>\n",
              "      <th>a83cc0e7-637c-464c-b6ad-407c6c94a633</th>\n",
              "      <td>sikka_pro</td>\n",
              "      <td>2022-11-26</td>\n",
              "      <td>2022-11-27</td>\n",
              "    </tr>\n",
              "    <tr>\n",
              "      <th>18f9d5c1-c378-4c3a-b829-f5d81ca03653</th>\n",
              "      <td>sikka_pro</td>\n",
              "      <td>2022-11-26</td>\n",
              "      <td>2022-11-27</td>\n",
              "    </tr>\n",
              "  </tbody>\n",
              "</table>\n",
              "<p>100 rows × 3 columns</p>\n",
              "</div>\n",
              "      <button class=\"colab-df-convert\" onclick=\"convertToInteractive('df-a65be8d8-33ae-4c19-9037-212e08a37fea')\"\n",
              "              title=\"Convert this dataframe to an interactive table.\"\n",
              "              style=\"display:none;\">\n",
              "        \n",
              "  <svg xmlns=\"http://www.w3.org/2000/svg\" height=\"24px\"viewBox=\"0 0 24 24\"\n",
              "       width=\"24px\">\n",
              "    <path d=\"M0 0h24v24H0V0z\" fill=\"none\"/>\n",
              "    <path d=\"M18.56 5.44l.94 2.06.94-2.06 2.06-.94-2.06-.94-.94-2.06-.94 2.06-2.06.94zm-11 1L8.5 8.5l.94-2.06 2.06-.94-2.06-.94L8.5 2.5l-.94 2.06-2.06.94zm10 10l.94 2.06.94-2.06 2.06-.94-2.06-.94-.94-2.06-.94 2.06-2.06.94z\"/><path d=\"M17.41 7.96l-1.37-1.37c-.4-.4-.92-.59-1.43-.59-.52 0-1.04.2-1.43.59L10.3 9.45l-7.72 7.72c-.78.78-.78 2.05 0 2.83L4 21.41c.39.39.9.59 1.41.59.51 0 1.02-.2 1.41-.59l7.78-7.78 2.81-2.81c.8-.78.8-2.07 0-2.86zM5.41 20L4 18.59l7.72-7.72 1.47 1.35L5.41 20z\"/>\n",
              "  </svg>\n",
              "      </button>\n",
              "      \n",
              "  <style>\n",
              "    .colab-df-container {\n",
              "      display:flex;\n",
              "      flex-wrap:wrap;\n",
              "      gap: 12px;\n",
              "    }\n",
              "\n",
              "    .colab-df-convert {\n",
              "      background-color: #E8F0FE;\n",
              "      border: none;\n",
              "      border-radius: 50%;\n",
              "      cursor: pointer;\n",
              "      display: none;\n",
              "      fill: #1967D2;\n",
              "      height: 32px;\n",
              "      padding: 0 0 0 0;\n",
              "      width: 32px;\n",
              "    }\n",
              "\n",
              "    .colab-df-convert:hover {\n",
              "      background-color: #E2EBFA;\n",
              "      box-shadow: 0px 1px 2px rgba(60, 64, 67, 0.3), 0px 1px 3px 1px rgba(60, 64, 67, 0.15);\n",
              "      fill: #174EA6;\n",
              "    }\n",
              "\n",
              "    [theme=dark] .colab-df-convert {\n",
              "      background-color: #3B4455;\n",
              "      fill: #D2E3FC;\n",
              "    }\n",
              "\n",
              "    [theme=dark] .colab-df-convert:hover {\n",
              "      background-color: #434B5C;\n",
              "      box-shadow: 0px 1px 3px 1px rgba(0, 0, 0, 0.15);\n",
              "      filter: drop-shadow(0px 1px 2px rgba(0, 0, 0, 0.3));\n",
              "      fill: #FFFFFF;\n",
              "    }\n",
              "  </style>\n",
              "\n",
              "      <script>\n",
              "        const buttonEl =\n",
              "          document.querySelector('#df-a65be8d8-33ae-4c19-9037-212e08a37fea button.colab-df-convert');\n",
              "        buttonEl.style.display =\n",
              "          google.colab.kernel.accessAllowed ? 'block' : 'none';\n",
              "\n",
              "        async function convertToInteractive(key) {\n",
              "          const element = document.querySelector('#df-a65be8d8-33ae-4c19-9037-212e08a37fea');\n",
              "          const dataTable =\n",
              "            await google.colab.kernel.invokeFunction('convertToInteractive',\n",
              "                                                     [key], {});\n",
              "          if (!dataTable) return;\n",
              "\n",
              "          const docLinkHtml = 'Like what you see? Visit the ' +\n",
              "            '<a target=\"_blank\" href=https://colab.research.google.com/notebooks/data_table.ipynb>data table notebook</a>'\n",
              "            + ' to learn more about interactive tables.';\n",
              "          element.innerHTML = '';\n",
              "          dataTable['output_type'] = 'display_data';\n",
              "          await google.colab.output.renderOutput(dataTable, element);\n",
              "          const docLink = document.createElement('div');\n",
              "          docLink.innerHTML = docLinkHtml;\n",
              "          element.appendChild(docLink);\n",
              "        }\n",
              "      </script>\n",
              "    </div>\n",
              "  </div>\n",
              "  "
            ]
          },
          "metadata": {},
          "execution_count": 52
        }
      ]
    },
    {
      "cell_type": "code",
      "source": [
        "merged_data = pd.merge(User_offer_completion_data, User_offer_data, on=\"user_id\", how=\"inner\")\n",
        "\n",
        "# Merge with rewards_details\n",
        "merged_data = pd.merge(merged_data, rewards_details, on=\"offer_id\", how=\"inner\")\n",
        "\n",
        "# Merge with users_signup\n",
        "merged_data = pd.merge(merged_data, users_signup, on=\"app_id\", how=\"inner\")\n",
        "\n",
        "# Filter data for 'Sikka' and 'Sikka Pro' apps\n",
        "sikka_data = merged_data[merged_data['app_id'].isin(['sikka', 'sikka_pro'])]\n",
        "\n",
        "# Print the merged data\n",
        "sikka_data.head()"
      ],
      "metadata": {
        "colab": {
          "base_uri": "https://localhost:8080/",
          "height": 531
        },
        "id": "R5hiwffwMdnx",
        "outputId": "3dcbca80-1f3e-4027-8c2b-10131769e283"
      },
      "execution_count": null,
      "outputs": [
        {
          "output_type": "execute_result",
          "data": {
            "text/plain": [
              "   reward_id_x                               user_id        date app_id  \\\n",
              "0         3712  4cb29e43-9f23-42fe-bab8-2422f42e7a91  2022-11-29  sikka   \n",
              "1         3712  4cb29e43-9f23-42fe-bab8-2422f42e7a91  2022-11-29  sikka   \n",
              "2         3712  4cb29e43-9f23-42fe-bab8-2422f42e7a91  2022-11-29  sikka   \n",
              "3         3712  4cb29e43-9f23-42fe-bab8-2422f42e7a91  2022-11-29  sikka   \n",
              "4         3712  4cb29e43-9f23-42fe-bab8-2422f42e7a91  2022-11-29  sikka   \n",
              "\n",
              "   offer_id   status                        started_at completed_at  \\\n",
              "0      3340  ONGOING  2022-11-26 00:13:53.620425+00:00          NaN   \n",
              "1      3340  ONGOING  2022-11-26 00:13:53.620425+00:00          NaN   \n",
              "2      3340  ONGOING  2022-11-26 00:13:53.620425+00:00          NaN   \n",
              "3      3340  ONGOING  2022-11-26 00:13:53.620425+00:00          NaN   \n",
              "4      3340  ONGOING  2022-11-26 00:13:53.620425+00:00          NaN   \n",
              "\n",
              "                         expires_at  reward_id_y label_in_english  \\\n",
              "0  2022-11-28 00:13:53.625780+00:00         3530     Open Account   \n",
              "1  2022-11-28 00:13:53.625780+00:00         3530     Open Account   \n",
              "2  2022-11-28 00:13:53.625780+00:00         3530     Open Account   \n",
              "3  2022-11-28 00:13:53.625780+00:00         3530     Open Account   \n",
              "4  2022-11-28 00:13:53.625780+00:00         3530     Open Account   \n",
              "\n",
              "   total_payout_in_paise  total_revenue_in_paise signed_up_on last_login_date  \n",
              "0                   7000                   22000   2022-11-26      2022-11-26  \n",
              "1                   7000                   22000   2022-11-26      2022-11-26  \n",
              "2                   7000                   22000   2022-11-26      2022-11-28  \n",
              "3                   7000                   22000   2022-11-26      2022-11-27  \n",
              "4                   7000                   22000   2022-11-26      2022-11-26  "
            ],
            "text/html": [
              "\n",
              "  <div id=\"df-1737c43a-845b-45f0-adc5-6877ae2bea61\">\n",
              "    <div class=\"colab-df-container\">\n",
              "      <div>\n",
              "<style scoped>\n",
              "    .dataframe tbody tr th:only-of-type {\n",
              "        vertical-align: middle;\n",
              "    }\n",
              "\n",
              "    .dataframe tbody tr th {\n",
              "        vertical-align: top;\n",
              "    }\n",
              "\n",
              "    .dataframe thead th {\n",
              "        text-align: right;\n",
              "    }\n",
              "</style>\n",
              "<table border=\"1\" class=\"dataframe\">\n",
              "  <thead>\n",
              "    <tr style=\"text-align: right;\">\n",
              "      <th></th>\n",
              "      <th>reward_id_x</th>\n",
              "      <th>user_id</th>\n",
              "      <th>date</th>\n",
              "      <th>app_id</th>\n",
              "      <th>offer_id</th>\n",
              "      <th>status</th>\n",
              "      <th>started_at</th>\n",
              "      <th>completed_at</th>\n",
              "      <th>expires_at</th>\n",
              "      <th>reward_id_y</th>\n",
              "      <th>label_in_english</th>\n",
              "      <th>total_payout_in_paise</th>\n",
              "      <th>total_revenue_in_paise</th>\n",
              "      <th>signed_up_on</th>\n",
              "      <th>last_login_date</th>\n",
              "    </tr>\n",
              "  </thead>\n",
              "  <tbody>\n",
              "    <tr>\n",
              "      <th>0</th>\n",
              "      <td>3712</td>\n",
              "      <td>4cb29e43-9f23-42fe-bab8-2422f42e7a91</td>\n",
              "      <td>2022-11-29</td>\n",
              "      <td>sikka</td>\n",
              "      <td>3340</td>\n",
              "      <td>ONGOING</td>\n",
              "      <td>2022-11-26 00:13:53.620425+00:00</td>\n",
              "      <td>NaN</td>\n",
              "      <td>2022-11-28 00:13:53.625780+00:00</td>\n",
              "      <td>3530</td>\n",
              "      <td>Open Account</td>\n",
              "      <td>7000</td>\n",
              "      <td>22000</td>\n",
              "      <td>2022-11-26</td>\n",
              "      <td>2022-11-26</td>\n",
              "    </tr>\n",
              "    <tr>\n",
              "      <th>1</th>\n",
              "      <td>3712</td>\n",
              "      <td>4cb29e43-9f23-42fe-bab8-2422f42e7a91</td>\n",
              "      <td>2022-11-29</td>\n",
              "      <td>sikka</td>\n",
              "      <td>3340</td>\n",
              "      <td>ONGOING</td>\n",
              "      <td>2022-11-26 00:13:53.620425+00:00</td>\n",
              "      <td>NaN</td>\n",
              "      <td>2022-11-28 00:13:53.625780+00:00</td>\n",
              "      <td>3530</td>\n",
              "      <td>Open Account</td>\n",
              "      <td>7000</td>\n",
              "      <td>22000</td>\n",
              "      <td>2022-11-26</td>\n",
              "      <td>2022-11-26</td>\n",
              "    </tr>\n",
              "    <tr>\n",
              "      <th>2</th>\n",
              "      <td>3712</td>\n",
              "      <td>4cb29e43-9f23-42fe-bab8-2422f42e7a91</td>\n",
              "      <td>2022-11-29</td>\n",
              "      <td>sikka</td>\n",
              "      <td>3340</td>\n",
              "      <td>ONGOING</td>\n",
              "      <td>2022-11-26 00:13:53.620425+00:00</td>\n",
              "      <td>NaN</td>\n",
              "      <td>2022-11-28 00:13:53.625780+00:00</td>\n",
              "      <td>3530</td>\n",
              "      <td>Open Account</td>\n",
              "      <td>7000</td>\n",
              "      <td>22000</td>\n",
              "      <td>2022-11-26</td>\n",
              "      <td>2022-11-28</td>\n",
              "    </tr>\n",
              "    <tr>\n",
              "      <th>3</th>\n",
              "      <td>3712</td>\n",
              "      <td>4cb29e43-9f23-42fe-bab8-2422f42e7a91</td>\n",
              "      <td>2022-11-29</td>\n",
              "      <td>sikka</td>\n",
              "      <td>3340</td>\n",
              "      <td>ONGOING</td>\n",
              "      <td>2022-11-26 00:13:53.620425+00:00</td>\n",
              "      <td>NaN</td>\n",
              "      <td>2022-11-28 00:13:53.625780+00:00</td>\n",
              "      <td>3530</td>\n",
              "      <td>Open Account</td>\n",
              "      <td>7000</td>\n",
              "      <td>22000</td>\n",
              "      <td>2022-11-26</td>\n",
              "      <td>2022-11-27</td>\n",
              "    </tr>\n",
              "    <tr>\n",
              "      <th>4</th>\n",
              "      <td>3712</td>\n",
              "      <td>4cb29e43-9f23-42fe-bab8-2422f42e7a91</td>\n",
              "      <td>2022-11-29</td>\n",
              "      <td>sikka</td>\n",
              "      <td>3340</td>\n",
              "      <td>ONGOING</td>\n",
              "      <td>2022-11-26 00:13:53.620425+00:00</td>\n",
              "      <td>NaN</td>\n",
              "      <td>2022-11-28 00:13:53.625780+00:00</td>\n",
              "      <td>3530</td>\n",
              "      <td>Open Account</td>\n",
              "      <td>7000</td>\n",
              "      <td>22000</td>\n",
              "      <td>2022-11-26</td>\n",
              "      <td>2022-11-26</td>\n",
              "    </tr>\n",
              "  </tbody>\n",
              "</table>\n",
              "</div>\n",
              "      <button class=\"colab-df-convert\" onclick=\"convertToInteractive('df-1737c43a-845b-45f0-adc5-6877ae2bea61')\"\n",
              "              title=\"Convert this dataframe to an interactive table.\"\n",
              "              style=\"display:none;\">\n",
              "        \n",
              "  <svg xmlns=\"http://www.w3.org/2000/svg\" height=\"24px\"viewBox=\"0 0 24 24\"\n",
              "       width=\"24px\">\n",
              "    <path d=\"M0 0h24v24H0V0z\" fill=\"none\"/>\n",
              "    <path d=\"M18.56 5.44l.94 2.06.94-2.06 2.06-.94-2.06-.94-.94-2.06-.94 2.06-2.06.94zm-11 1L8.5 8.5l.94-2.06 2.06-.94-2.06-.94L8.5 2.5l-.94 2.06-2.06.94zm10 10l.94 2.06.94-2.06 2.06-.94-2.06-.94-.94-2.06-.94 2.06-2.06.94z\"/><path d=\"M17.41 7.96l-1.37-1.37c-.4-.4-.92-.59-1.43-.59-.52 0-1.04.2-1.43.59L10.3 9.45l-7.72 7.72c-.78.78-.78 2.05 0 2.83L4 21.41c.39.39.9.59 1.41.59.51 0 1.02-.2 1.41-.59l7.78-7.78 2.81-2.81c.8-.78.8-2.07 0-2.86zM5.41 20L4 18.59l7.72-7.72 1.47 1.35L5.41 20z\"/>\n",
              "  </svg>\n",
              "      </button>\n",
              "      \n",
              "  <style>\n",
              "    .colab-df-container {\n",
              "      display:flex;\n",
              "      flex-wrap:wrap;\n",
              "      gap: 12px;\n",
              "    }\n",
              "\n",
              "    .colab-df-convert {\n",
              "      background-color: #E8F0FE;\n",
              "      border: none;\n",
              "      border-radius: 50%;\n",
              "      cursor: pointer;\n",
              "      display: none;\n",
              "      fill: #1967D2;\n",
              "      height: 32px;\n",
              "      padding: 0 0 0 0;\n",
              "      width: 32px;\n",
              "    }\n",
              "\n",
              "    .colab-df-convert:hover {\n",
              "      background-color: #E2EBFA;\n",
              "      box-shadow: 0px 1px 2px rgba(60, 64, 67, 0.3), 0px 1px 3px 1px rgba(60, 64, 67, 0.15);\n",
              "      fill: #174EA6;\n",
              "    }\n",
              "\n",
              "    [theme=dark] .colab-df-convert {\n",
              "      background-color: #3B4455;\n",
              "      fill: #D2E3FC;\n",
              "    }\n",
              "\n",
              "    [theme=dark] .colab-df-convert:hover {\n",
              "      background-color: #434B5C;\n",
              "      box-shadow: 0px 1px 3px 1px rgba(0, 0, 0, 0.15);\n",
              "      filter: drop-shadow(0px 1px 2px rgba(0, 0, 0, 0.3));\n",
              "      fill: #FFFFFF;\n",
              "    }\n",
              "  </style>\n",
              "\n",
              "      <script>\n",
              "        const buttonEl =\n",
              "          document.querySelector('#df-1737c43a-845b-45f0-adc5-6877ae2bea61 button.colab-df-convert');\n",
              "        buttonEl.style.display =\n",
              "          google.colab.kernel.accessAllowed ? 'block' : 'none';\n",
              "\n",
              "        async function convertToInteractive(key) {\n",
              "          const element = document.querySelector('#df-1737c43a-845b-45f0-adc5-6877ae2bea61');\n",
              "          const dataTable =\n",
              "            await google.colab.kernel.invokeFunction('convertToInteractive',\n",
              "                                                     [key], {});\n",
              "          if (!dataTable) return;\n",
              "\n",
              "          const docLinkHtml = 'Like what you see? Visit the ' +\n",
              "            '<a target=\"_blank\" href=https://colab.research.google.com/notebooks/data_table.ipynb>data table notebook</a>'\n",
              "            + ' to learn more about interactive tables.';\n",
              "          element.innerHTML = '';\n",
              "          dataTable['output_type'] = 'display_data';\n",
              "          await google.colab.output.renderOutput(dataTable, element);\n",
              "          const docLink = document.createElement('div');\n",
              "          docLink.innerHTML = docLinkHtml;\n",
              "          element.appendChild(docLink);\n",
              "        }\n",
              "      </script>\n",
              "    </div>\n",
              "  </div>\n",
              "  "
            ]
          },
          "metadata": {},
          "execution_count": 66
        }
      ]
    },
    {
      "cell_type": "code",
      "source": [
        "sikka_data.info()"
      ],
      "metadata": {
        "colab": {
          "base_uri": "https://localhost:8080/"
        },
        "id": "akHAPX4XMw6Z",
        "outputId": "02752fbb-c8ca-4ec1-8032-4e9861152b40"
      },
      "execution_count": null,
      "outputs": [
        {
          "output_type": "stream",
          "name": "stdout",
          "text": [
            "<class 'pandas.core.frame.DataFrame'>\n",
            "Int64Index: 61704 entries, 0 to 61703\n",
            "Data columns (total 15 columns):\n",
            " #   Column                  Non-Null Count  Dtype \n",
            "---  ------                  --------------  ----- \n",
            " 0   reward_id_x             61704 non-null  int64 \n",
            " 1   user_id                 61704 non-null  object\n",
            " 2   date                    61704 non-null  object\n",
            " 3   app_id                  61704 non-null  object\n",
            " 4   offer_id                61704 non-null  int64 \n",
            " 5   status                  61704 non-null  object\n",
            " 6   started_at              61704 non-null  object\n",
            " 7   completed_at            11452 non-null  object\n",
            " 8   expires_at              50252 non-null  object\n",
            " 9   reward_id_y             61704 non-null  int64 \n",
            " 10  label_in_english        61704 non-null  object\n",
            " 11  total_payout_in_paise   61704 non-null  int64 \n",
            " 12  total_revenue_in_paise  61704 non-null  int64 \n",
            " 13  signed_up_on            61704 non-null  object\n",
            " 14  last_login_date         61704 non-null  object\n",
            "dtypes: int64(5), object(10)\n",
            "memory usage: 7.5+ MB\n"
          ]
        }
      ]
    },
    {
      "cell_type": "code",
      "source": [
        "#unique users for the given data\n",
        "sikka_data[\"user_id\"].nunique()"
      ],
      "metadata": {
        "colab": {
          "base_uri": "https://localhost:8080/"
        },
        "id": "behFUZNORa7P",
        "outputId": "72c5152f-5e80-40fa-abc2-bd9d2086f773"
      },
      "execution_count": null,
      "outputs": [
        {
          "output_type": "execute_result",
          "data": {
            "text/plain": [
              "28"
            ]
          },
          "metadata": {},
          "execution_count": 70
        }
      ]
    },
    {
      "cell_type": "code",
      "source": [
        "App_users_counts = users_signup.groupby('app_id')['app_id'].count()\n",
        "\n",
        "# Print the results\n",
        "print(\"App_users Counts:\")\n",
        "print(App_users_counts)\n",
        "\n",
        "# Visualize Offer Initiation\n",
        "plt.figure(figsize=(8, 6))\n",
        "App_users_counts.plot(kind='bar', color=['blue', 'green'])\n",
        "plt.title('unique users for app')\n",
        "plt.xlabel('App')\n",
        "plt.ylabel('Count')\n",
        "plt.xticks(rotation=0)\n",
        "plt.show()\n",
        "\n"
      ],
      "metadata": {
        "colab": {
          "base_uri": "https://localhost:8080/",
          "height": 651
        },
        "id": "teoHadtyRJwW",
        "outputId": "3dbde66f-b929-4b4e-92f7-ac93841b6d30"
      },
      "execution_count": null,
      "outputs": [
        {
          "output_type": "stream",
          "name": "stdout",
          "text": [
            "App_users Counts:\n",
            "app_id\n",
            "sikka        64\n",
            "sikka_pro    36\n",
            "Name: app_id, dtype: int64\n"
          ]
        },
        {
          "output_type": "display_data",
          "data": {
            "text/plain": [
              "<Figure size 800x600 with 1 Axes>"
            ],
            "image/png": "[encoded data removed]"
          },
          "metadata": {}
        }
      ]
    },
    {
      "cell_type": "code",
      "source": [
        "# Offer Initiation: Count the number of offers initiated by users for each app\n",
        "offer_initiation_counts = sikka_data.groupby('app_id')['reward_id_x'].count()\n",
        "\n",
        "# Print the results\n",
        "print(\"Offer Initiation Counts:\")\n",
        "print(offer_initiation_counts)\n",
        "\n",
        "# Visualize Offer Initiation\n",
        "plt.figure(figsize=(8, 6))\n",
        "offer_initiation_counts.plot(kind='bar', color=['blue', 'green'])\n",
        "plt.title('Offer Initiation Counts')\n",
        "plt.xlabel('App')\n",
        "plt.ylabel('Count')\n",
        "plt.xticks(rotation=0)\n",
        "plt.show()\n",
        "\n"
      ],
      "metadata": {
        "colab": {
          "base_uri": "https://localhost:8080/",
          "height": 651
        },
        "id": "b2RaVXrfNLS4",
        "outputId": "0aec4d3a-bbcd-4634-cb42-c87ac8bfb7b3"
      },
      "execution_count": null,
      "outputs": [
        {
          "output_type": "stream",
          "name": "stdout",
          "text": [
            "Offer Initiation Counts:\n",
            "app_id\n",
            "sikka        29952\n",
            "sikka_pro    31752\n",
            "Name: reward_id_x, dtype: int64\n"
          ]
        },
        {
          "output_type": "display_data",
          "data": {
            "text/plain": [
              "<Figure size 800x600 with 1 Axes>"
            ],
            "image/png": "[encoded data removed]"
          },
          "metadata": {}
        }
      ]
    },
    {
      "cell_type": "code",
      "source": [
        "# Offer Completion: Count the number of offers completed by users for each app\n",
        "offer_completion_counts = sikka_data[sikka_data['status'] == 'COMPLETED'].groupby('app_id')['reward_id_x'].count()\n",
        "print(\"Offer Completion Counts:\")\n",
        "print(offer_completion_counts)\n",
        "\n",
        "# Visualize Offer Completion\n",
        "plt.figure(figsize=(8, 6))\n",
        "offer_completion_counts.plot(kind='bar', color=['blue', 'green'])\n",
        "plt.title('Offer Completion Counts')\n",
        "plt.xlabel('App')\n",
        "plt.ylabel('Count')\n",
        "plt.xticks(rotation=0)\n",
        "plt.show()\n"
      ],
      "metadata": {
        "colab": {
          "base_uri": "https://localhost:8080/",
          "height": 651
        },
        "id": "K4_RCswFOJ1n",
        "outputId": "6b5acf2b-efa6-48ed-9009-cffc3e778380"
      },
      "execution_count": null,
      "outputs": [
        {
          "output_type": "stream",
          "name": "stdout",
          "text": [
            "Offer Completion Counts:\n",
            "app_id\n",
            "sikka        4864\n",
            "sikka_pro    6588\n",
            "Name: reward_id_x, dtype: int64\n"
          ]
        },
        {
          "output_type": "display_data",
          "data": {
            "text/plain": [
              "<Figure size 800x600 with 1 Axes>"
            ],
            "image/png": "[encoded data removed]"
          },
          "metadata": {}
        }
      ]
    },
    {
      "cell_type": "code",
      "source": [
        "# Rewards Earned: Calculate the total rewards earned by users for each app\n",
        "rewards_earned = sikka_data.groupby('app_id')['total_payout_in_paise'].sum() / 100\n",
        "print(\"Rewards Earned:\")\n",
        "print(rewards_earned)\n",
        "\n",
        "# Visualize Rewards Earned\n",
        "plt.figure(figsize=(8, 6))\n",
        "rewards_earned.plot(kind='bar', color=['blue', 'green'])\n",
        "plt.title('Rewards Earned')\n",
        "plt.xlabel('App')\n",
        "plt.ylabel('Rewards (Rupees)')\n",
        "plt.xticks(rotation=0)\n",
        "plt.show()"
      ],
      "metadata": {
        "colab": {
          "base_uri": "https://localhost:8080/",
          "height": 651
        },
        "id": "nBub8PaAOT0-",
        "outputId": "5ac6f60c-a6cb-4f28-fd22-b52cebf60573"
      },
      "execution_count": null,
      "outputs": [
        {
          "output_type": "stream",
          "name": "stdout",
          "text": [
            "Rewards Earned:\n",
            "app_id\n",
            "sikka        620478.72\n",
            "sikka_pro    491945.04\n",
            "Name: total_payout_in_paise, dtype: float64\n"
          ]
        },
        {
          "output_type": "display_data",
          "data": {
            "text/plain": [
              "<Figure size 800x600 with 1 Axes>"
            ],
            "image/png": "[encoded data removed]"
          },
          "metadata": {}
        }
      ]
    },
    {
      "cell_type": "code",
      "source": [
        "# Revenue Generated: Calculate the total revenue generated for each app\n",
        "revenue_generated = sikka_data.groupby('app_id')['total_revenue_in_paise'].sum() / 100\n",
        "\n",
        "print(\"Revenue Generated:\")\n",
        "print(revenue_generated)\n",
        "\n",
        "# Visualize Revenue Generated\n",
        "plt.figure(figsize=(8, 6))\n",
        "revenue_generated.plot(kind='bar', color=['blue', 'green'])\n",
        "plt.title('Revenue Generated')\n",
        "plt.xlabel('App')\n",
        "plt.ylabel('Revenue (Rupees)')\n",
        "plt.xticks(rotation=0)\n",
        "plt.show()"
      ],
      "metadata": {
        "colab": {
          "base_uri": "https://localhost:8080/",
          "height": 651
        },
        "id": "Pgg-xvxGOY4u",
        "outputId": "15469a93-b13f-43e0-bd13-95103273e48a"
      },
      "execution_count": null,
      "outputs": [
        {
          "output_type": "stream",
          "name": "stdout",
          "text": [
            "Revenue Generated:\n",
            "app_id\n",
            "sikka        1680919.68\n",
            "sikka_pro    1366603.92\n",
            "Name: total_revenue_in_paise, dtype: float64\n"
          ]
        },
        {
          "output_type": "display_data",
          "data": {
            "text/plain": [
              "<Figure size 800x600 with 1 Axes>"
            ],
            "image/png": "[encoded data removed]"
          },
          "metadata": {}
        }
      ]
    },
    {
      "cell_type": "markdown",
      "source": [
        "Now We can compare the two apps, \"Sikka\" and \"Sikka Pro,\" based on different metrics:\n",
        "\n",
        "1. App Users Count:\n",
        "   - Sikka: 64 users\n",
        "   - Sikka Pro: 36 users\n",
        "\n",
        "2. Offer Initiation Counts:\n",
        "   - Sikka: 29,952 offers initiated\n",
        "   - Sikka Pro: 31,752 offers initiated\n",
        "\n",
        "3. Offer Completion Counts:\n",
        "   - Sikka: 4,864 offers completed\n",
        "   - Sikka Pro: 6,588 offers completed\n",
        "\n",
        "4. Rewards Earned:\n",
        "   - Sikka: 620,478.72\n",
        "   - Sikka Pro: 491,945.04\n",
        "\n",
        "5. Revenue Generated:\n",
        "   - Sikka: 1,680,919.68\n",
        "   - Sikka Pro: 1,366,603.92\n",
        "\n",
        "To compare which app is better, we can consider different factors:\n",
        "\n",
        "- **App Users Count:** Sikka has a higher number of app users (64) compared to Sikka Pro (36). More users indicate a larger user base for Sikka, which can potentially lead to higher engagement and revenue.\n",
        "\n",
        "- **Offer Initiation Counts:** Both apps have a similar number of offer initiations, with Sikka having 29,952 and Sikka Pro having 31,752. The slight difference may not be significant enough to determine which app is better.\n",
        "\n",
        "- **Offer Completion Counts:** Sikka Pro has a higher number of offer completions (6,588) compared to Sikka (4,864). This suggests that users of Sikka Pro are more likely to complete offers, indicating better user engagement.\n",
        "\n",
        "- **Rewards Earned:** Sikka has higher rewards earned (620,478.72) compared to Sikka Pro (491,945.04). This implies that Sikka users are earning more rewards, indicating better incentives and user satisfaction.\n",
        "\n",
        "- **Revenue Generated:** Sikka generates higher revenue (1,680,919.68) compared to Sikka Pro (1,366,603.92). Higher revenue indicates better monetization and profitability for Sikka.\n",
        "\n",
        "Based on these insights, it appears that **Sikka has a larger user base, higher rewards earned, and greater revenue generated**. However, Sikka Pro shows better performance in terms of offer completion counts. Overall, considering the factors of user base, rewards earned, and revenue generated, Sikka seems to be the better app between the two.\n",
        "\n",
        "Here's a table comparing the metrics for both apps:\n",
        "\n",
        "| Metric                  | Sikka      | Sikka Pro  |\n",
        "|-------------------------|------------|------------|\n",
        "| App Users Count         | 64         | 36         |\n",
        "| Offer Initiation Counts | 29,952     | 31,752     |\n",
        "| Offer Completion Counts | 4,864      | 6,588      |\n",
        "| Rewards Earned          | 620,478.72 | 491,945.04 |\n",
        "| Revenue Generated       |1,680,919.68|1,366,603.92|\n",
        "\n"
      ],
      "metadata": {
        "id": "2G_Ubjh2QN2T"
      }
    }
  ]
}